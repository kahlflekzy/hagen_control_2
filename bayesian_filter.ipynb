{
  "nbformat": 4,
  "nbformat_minor": 0,
  "metadata": {
    "colab": {
      "provenance": [],
      "collapsed_sections": [],
      "authorship_tag": "ABX9TyOedUVcJ3QnQUFaAIn3YaZF",
      "include_colab_link": true
    },
    "kernelspec": {
      "name": "python3",
      "display_name": "Python 3"
    },
    "language_info": {
      "name": "python"
    }
  },
  "cells": [
    {
      "cell_type": "markdown",
      "metadata": {
        "id": "view-in-github",
        "colab_type": "text"
      },
      "source": [
        "<a href=\"https://colab.research.google.com/github/kahlflekzy/hagen_control_2/blob/master/bayesian_filter.ipynb\" target=\"_parent\"><img src=\"https://colab.research.google.com/assets/colab-badge.svg\" alt=\"Open In Colab\"/></a>"
      ]
    },
    {
      "cell_type": "code",
      "execution_count": null,
      "metadata": {
        "id": "ml09H0Swnk6C",
        "colab": {
          "base_uri": "https://localhost:8080/",
          "height": 646
        },
        "outputId": "b05ac106-69d2-4dd9-f3ec-fbeccd25d061"
      },
      "outputs": [
        {
          "output_type": "stream",
          "name": "stdout",
          "text": [
            "Initial belief of the network\n",
            "Conditional probabilities of the image processing technique\n",
            "Outcome probabilities when applying control command\n",
            "Outcome probabilities when not applying control command\n",
            "Prediction step: U(0)=not_move\n",
            "belp_X:  [0.5 0.5]\n",
            "Correction step: Z(0))=obs\n",
            "bel_X:  [0.18181818 0.81818182]\n",
            "Prediction step: U(1)=move\n",
            "belp_X:  [0.83636364 0.16363636]\n",
            "Correction step: Z(1))=free\n",
            "bel_X:  [0.97612732 0.02387268]\n",
            "Prediction step: U(2)=move\n",
            "belp_X:  [0.99522546 0.00477454]\n",
            "Correction step: Z(2))=free\n",
            "bel_X:  [9.99400679e-01 5.99320770e-04]\n",
            "range(0, 4)\n",
            "0 Rectangle(xy=(-0.4, 0), width=0.8, height=0.5, angle=0)\n",
            "1 Rectangle(xy=(0.6, 0), width=0.8, height=0.5, angle=0)\n",
            "2 Rectangle(xy=(1.6, 0), width=0.8, height=0.181818, angle=0)\n",
            "3 Rectangle(xy=(2.6, 0), width=0.8, height=0.818182, angle=0)\n"
          ]
        },
        {
          "output_type": "display_data",
          "data": {
            "text/plain": [
              "<Figure size 432x288 with 1 Axes>"
            ],
            "image/png": "[encoded data removed]"
          },
          "metadata": {
            "needs_background": "light"
          }
        }
      ],
      "source": [
        "import numpy as np\n",
        "import matplotlib.pyplot as plt\n",
        "from matplotlib import animation\n",
        "\n",
        "print(\"Initial belief of the network\")\n",
        "\n",
        "bel_Xc = 0.5  # bel(X=free)\n",
        "bel_X = np.array([bel_Xc, 1-bel_Xc])  # % bel(X=free), bel(X=obs)\n",
        "\n",
        "print(\"Conditional probabilities of the image processing technique\")\n",
        "P_ZcXc = 0.8      # P(Z=free|X=free)\n",
        "P_ZdXc = 1-P_ZcXc  # P(Z=obs|X=free)\n",
        "P_ZdXd = 0.9      # P(Z=obs|X=obs)\n",
        "P_ZcXd = 1-P_ZdXd  # P(Z=free|X=obs)\n",
        "p_ZX = np.array([[P_ZcXc, P_ZcXd], [P_ZdXc, P_ZdXd]])\n",
        "\n",
        "print('Outcome probabilities when applying control command')\n",
        "P_XcXcUc = 1          # P(X=free|X'=free,U'=move)\n",
        "P_XdXcUc = 1-P_XcXcUc  # P(X=obs|X'=free,U'=move)\n",
        "P_XcXdUc = 0.8        # P(X=free|X'=obs,U'=move)\n",
        "P_XdXdUc = 1-P_XcXdUc  # P(X=obs|X'=obs,U'=move)\n",
        "p_ZXUc = np.array([[P_XcXcUc, P_XdXcUc], [P_XcXdUc, P_XdXdUc]])\n",
        "\n",
        "print('Outcome probabilities when not applying control command')\n",
        "P_XcXcUn = 1          # P(X=free|X'=free,U'=not_move)\n",
        "P_XdXcUn = 1-P_XcXcUn  # P(X=obs|X'=free,U'=not_move)\n",
        "P_XcXdUn = 0          # P(X=free|X'=obs,U'=not_move)\n",
        "P_XdXdUn = 1-P_XcXdUn  # P(X=obs|X'=obs,U'=not_move)\n",
        "p_ZXUn = np.array([[P_XcXcUn, P_XdXcUn], [P_XcXdUn, P_XdXdUn]])\n",
        "\n",
        "U = np.array(['not_move',  'move', 'move'])\n",
        "Z = np.array(['obs', 'free', 'free'])\n",
        "\n",
        "bel_X_steps_prediction = []\n",
        "bel_X_steps_correction = []\n",
        "for idx, u, z in zip(range(0, len(U)), U, Z):\n",
        "    print('Prediction step: U({0})={1}'.format(idx, u))\n",
        "    if u == 'move':\n",
        "        belp_X = np.array([(P_XcXcUc*bel_X[0]) + (P_XcXdUc*bel_X[1]), \n",
        "                           (P_XdXcUc*bel_X[0]) + (P_XdXdUc*bel_X[1])]) #TODO \n",
        "    else:\n",
        "        belp_X = np.array([(P_XcXcUn*bel_X[0]) + (P_XcXdUn*bel_X[1]), \n",
        "                           (P_XdXcUn*bel_X[0]) + (P_XdXdUn*bel_X[1])])  #TODO \n",
        "    bel_X_steps_prediction.append(belp_X)\n",
        "    print(\"belp_X: \", belp_X)\n",
        "    print('Correction step: Z({0}))={1}'.format(idx, z))\n",
        "    if z == 'free':\n",
        "        bel_X = np.array([P_ZcXc*belp_X[0],\n",
        "                          P_ZcXd*belp_X[1]\n",
        "        ])\n",
        "    else:\n",
        "        bel_X =  np.array([P_ZdXc*belp_X[0],\n",
        "                          P_ZdXd*belp_X[1]\n",
        "        ]) #TODO \n",
        "    bel_X = (1/np.sum(bel_X))*bel_X #TODO \n",
        "    bel_X_steps_correction.append(bel_X)\n",
        "    print(\"bel_X: \", bel_X)\n",
        "\n",
        "bel_X_steps_prediction = np.array(bel_X_steps_prediction)\n",
        "bel_X_steps_correction = np.array(bel_X_steps_correction)\n",
        "\n",
        "def barlist(n):\n",
        "    return np.array([bel_X_steps_prediction[n], bel_X_steps_correction[n]]).flatten()\n",
        "\n",
        "\n",
        "fig = plt.figure()\n",
        "n = len(U)-1\n",
        "x = range(0, bel_X.shape[0]*2)\n",
        "print(x)\n",
        "\n",
        "barcollection = plt.bar(x, barlist(0))\n",
        "\n",
        "def animate(i):\n",
        "    y = barlist(i+1)\n",
        "    for i, b in enumerate(barcollection):\n",
        "        print(i, b)\n",
        "        b.set_height(y[i])\n",
        "\n",
        "\n",
        "anim = animation.FuncAnimation(fig, animate, repeat=False, blit=False, frames=n,\n",
        "                               interval=1000)\n",
        "plt.ylabel(\"Probability\")\n",
        "plt.title('bel_X after prediction step and correction step')\n",
        "# anim.save('bel_x.mp4', writer=animation.FFMpegWriter(fps=10))\n",
        "plt.show()"
      ]
    },
    {
      "cell_type": "code",
      "source": [],
      "metadata": {
        "id": "uB4MuC_mxqef"
      },
      "execution_count": null,
      "outputs": []
    }
  ]
}